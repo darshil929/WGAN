{
  "nbformat": 4,
  "nbformat_minor": 0,
  "metadata": {
    "colab": {
      "provenance": [],
      "gpuType": "T4"
    },
    "kernelspec": {
      "name": "python3",
      "display_name": "Python 3"
    },
    "language_info": {
      "name": "python"
    },
    "accelerator": "GPU"
  },
  "cells": [
    {
      "cell_type": "code",
      "execution_count": 1,
      "metadata": {
        "id": "G7JK2Okc7H86"
      },
      "outputs": [],
      "source": [
        "import torch\n",
        "import torch.nn as nn"
      ]
    },
    {
      "cell_type": "code",
      "source": [
        "class Discriminator(nn.Module):\n",
        "    def __init__(self, channel_img, features_d):\n",
        "        super(Discriminator, self).__init__()\n",
        "        self.disc = nn.Sequential(\n",
        "            # Input: N x channel_img x 64 x 64\n",
        "            nn.Conv2d(\n",
        "                channel_img, features_d, kernel_size=4, stride=2, padding=1\n",
        "            ), # 32x32\n",
        "            nn.LeakyReLU(0.2),\n",
        "            self._block(features_d, features_d*2, 4, 2, 1), # 16x16\n",
        "            self._block(features_d*2, features_d*4, 4, 2, 1), # 8x8\n",
        "            self._block(features_d*4, features_d*8, 4, 2, 1), # 4x4\n",
        "            nn.Conv2d(features_d*8, 1, kernel_size=4, stride=2, padding=0), # 1x1\n",
        "            nn.Sigmoid()\n",
        "        )\n",
        "\n",
        "\n",
        "    def _block(self, in_channels, out_channels, kernel_size, stride, padding):\n",
        "        return nn.Sequential(\n",
        "            nn.Conv2d(\n",
        "                in_channels,\n",
        "                out_channels,\n",
        "                kernel_size,\n",
        "                stride,\n",
        "                padding,\n",
        "                bias=False\n",
        "            ),\n",
        "            nn.BatchNorm2d(out_channels),\n",
        "            nn.LeakyReLU(0.2)\n",
        "        )\n",
        "\n",
        "    def forward(self, x):\n",
        "        return self.disc(x)"
      ],
      "metadata": {
        "id": "xKXqOra57Zq6"
      },
      "execution_count": 2,
      "outputs": []
    },
    {
      "cell_type": "code",
      "source": [
        "class Generator(nn.Module):\n",
        "    def __init__(self, z_dim, channel_img, features_g):\n",
        "        super(Generator, self).__init__()\n",
        "        self.gen = nn.Sequential(\n",
        "            # Input: N x z_dim x 1 x 1\n",
        "            self._block(z_dim, features_g*16, 4, 1, 0), # N x features_g*16 x 4 x 4\n",
        "            self._block(features_g*16, features_g*8, 4, 2, 1), # 8x8\n",
        "            self._block(features_g*8, features_g*4, 4, 2, 1), # 16x16\n",
        "            self._block(features_g*4, features_g*2, 4, 2, 1), # 32x32\n",
        "            nn.ConvTranspose2d(\n",
        "                features_g*2, channel_img, kernel_size=4, stride=2, padding=1\n",
        "            ),\n",
        "            nn.Tanh() # [-1, 1]\n",
        "        )\n",
        "\n",
        "    def _block(self, in_channels, out_channels, kernel_size, stride, padding):\n",
        "        return nn.Sequential(\n",
        "            # works in opposite way of Conv2d\n",
        "            nn.ConvTranspose2d(\n",
        "                in_channels,\n",
        "                out_channels,\n",
        "                kernel_size,\n",
        "                stride,\n",
        "                padding,\n",
        "                bias=False\n",
        "            ),\n",
        "            nn.BatchNorm2d(out_channels),\n",
        "            nn.ReLU()\n",
        "        )\n",
        "\n",
        "    def forward(self, x):\n",
        "        return self.gen(x)"
      ],
      "metadata": {
        "id": "VfeVsAa17c4F"
      },
      "execution_count": 3,
      "outputs": []
    },
    {
      "cell_type": "code",
      "source": [
        "def initialize_weights(model):\n",
        "    for m in model.modules():\n",
        "        if isinstance(m, (nn.Conv2d, nn.ConvTranspose2d, nn.BatchNorm2d)):\n",
        "            nn.init.normal_(m.weight.data, 0.0, 0.02)"
      ],
      "metadata": {
        "id": "X9zqTByC7fMo"
      },
      "execution_count": 4,
      "outputs": []
    },
    {
      "cell_type": "code",
      "source": [
        "def test():\n",
        "    N, in_channels, H, W = 8, 3, 64, 64\n",
        "    z_dim = 100\n",
        "\n",
        "    x = torch.randn((N, in_channels, H, W))\n",
        "    disc = Discriminator(in_channels, 8)\n",
        "    initialize_weights(disc)\n",
        "    assert disc(x).shape == (N, 1, 1, 1)\n",
        "    print(\"Discriminator test passed\")\n",
        "\n",
        "    gen = Generator(z_dim, in_channels, 8)\n",
        "    initialize_weights(gen)\n",
        "    z = torch.randn((N, z_dim, 1, 1))\n",
        "    assert gen(z).shape == (N, in_channels, H, W)\n",
        "    print(\"Generator test passed\")\n",
        "\n",
        "    print(\"Success!\")\n",
        "\n",
        "test()"
      ],
      "metadata": {
        "colab": {
          "base_uri": "https://localhost:8080/"
        },
        "id": "qUoWoOiD7h3K",
        "outputId": "a8bde172-faab-4301-ca68-dbc652bbffec"
      },
      "execution_count": 5,
      "outputs": [
        {
          "output_type": "stream",
          "name": "stdout",
          "text": [
            "Discriminator test passed\n",
            "Generator test passed\n",
            "Success!\n"
          ]
        }
      ]
    },
    {
      "cell_type": "code",
      "source": [
        "import torch\n",
        "import torch.nn as nn\n",
        "import torch.optim as optim\n",
        "import torchvision\n",
        "import torchvision.transforms as transforms\n",
        "import torchvision.datasets as datasets\n",
        "from torch.utils.data import DataLoader\n",
        "from torch.utils.tensorboard import SummaryWriter"
      ],
      "metadata": {
        "id": "lczPWx3K7jrk"
      },
      "execution_count": 6,
      "outputs": []
    },
    {
      "cell_type": "code",
      "source": [
        "# Hyperparameters etc.\n",
        "device = torch.device(\"cuda\" if torch.cuda.is_available() else \"cpu\")\n",
        "LEARNING_RATE = 5e-5 # here we can even use 2 different learning rates for the generator and the discriminator\n",
        "BATCH_SIZE = 64\n",
        "IMAGE_SIZE = 64\n",
        "CHANNELS_IMG = 1\n",
        "Z_DIM = 100\n",
        "NUM_EPOCHS = 5\n",
        "FEATURES_DISC = 64\n",
        "FEATURES_GEN = 64\n",
        "CRIRIC_ITERATIONS = 5\n",
        "WEIGHT_CLIP = 0.01"
      ],
      "metadata": {
        "id": "yPSiO2a77mJ7"
      },
      "execution_count": 7,
      "outputs": []
    },
    {
      "cell_type": "code",
      "source": [
        "transforms = transforms.Compose(\n",
        "    [\n",
        "        transforms.Resize(IMAGE_SIZE),\n",
        "        transforms.ToTensor(),\n",
        "        transforms.Normalize(\n",
        "            [0.5 for _ in range(CHANNELS_IMG)], [0.5 for _ in range(CHANNELS_IMG)]\n",
        "        ),\n",
        "    ]\n",
        ")\n",
        "\n",
        "dataset = datasets.MNIST(root=\"dataset/\", train=True, transform=transforms, download=True)\n",
        "loader = DataLoader(dataset, batch_size=BATCH_SIZE, shuffle=True)\n",
        "gen = Generator(Z_DIM, CHANNELS_IMG, FEATURES_GEN).to(device)\n",
        "critic = Discriminator(CHANNELS_IMG, FEATURES_DISC).to(device)\n",
        "initialize_weights(gen)\n",
        "initialize_weights(critic)\n",
        "\n",
        "opt_gen = optim.RMSprop(gen.parameters(), lr=LEARNING_RATE)\n",
        "opt_critic = optim.RMSprop(critic.parameters(), lr=LEARNING_RATE)\n",
        "\n",
        "fixed_noise = torch.randn(32, Z_DIM, 1, 1).to(device)\n",
        "writer_real = SummaryWriter(f\"logs/real\")\n",
        "writer_fake = SummaryWriter(f\"logs/fake\")\n",
        "step = 0"
      ],
      "metadata": {
        "colab": {
          "base_uri": "https://localhost:8080/"
        },
        "id": "WwvyWQfV7oGF",
        "outputId": "37506304-6e20-4121-9d63-19d66b4973be"
      },
      "execution_count": 8,
      "outputs": [
        {
          "output_type": "stream",
          "name": "stdout",
          "text": [
            "Downloading http://yann.lecun.com/exdb/mnist/train-images-idx3-ubyte.gz\n",
            "Failed to download (trying next):\n",
            "HTTP Error 403: Forbidden\n",
            "\n",
            "Downloading https://ossci-datasets.s3.amazonaws.com/mnist/train-images-idx3-ubyte.gz\n",
            "Downloading https://ossci-datasets.s3.amazonaws.com/mnist/train-images-idx3-ubyte.gz to dataset/MNIST/raw/train-images-idx3-ubyte.gz\n"
          ]
        },
        {
          "output_type": "stream",
          "name": "stderr",
          "text": [
            "100%|██████████| 9912422/9912422 [00:00<00:00, 16384755.66it/s]\n"
          ]
        },
        {
          "output_type": "stream",
          "name": "stdout",
          "text": [
            "Extracting dataset/MNIST/raw/train-images-idx3-ubyte.gz to dataset/MNIST/raw\n",
            "\n",
            "Downloading http://yann.lecun.com/exdb/mnist/train-labels-idx1-ubyte.gz\n",
            "Failed to download (trying next):\n",
            "HTTP Error 403: Forbidden\n",
            "\n",
            "Downloading https://ossci-datasets.s3.amazonaws.com/mnist/train-labels-idx1-ubyte.gz\n",
            "Downloading https://ossci-datasets.s3.amazonaws.com/mnist/train-labels-idx1-ubyte.gz to dataset/MNIST/raw/train-labels-idx1-ubyte.gz\n"
          ]
        },
        {
          "output_type": "stream",
          "name": "stderr",
          "text": [
            "100%|██████████| 28881/28881 [00:00<00:00, 480495.08it/s]\n"
          ]
        },
        {
          "output_type": "stream",
          "name": "stdout",
          "text": [
            "Extracting dataset/MNIST/raw/train-labels-idx1-ubyte.gz to dataset/MNIST/raw\n",
            "\n",
            "Downloading http://yann.lecun.com/exdb/mnist/t10k-images-idx3-ubyte.gz\n",
            "Failed to download (trying next):\n",
            "HTTP Error 403: Forbidden\n",
            "\n",
            "Downloading https://ossci-datasets.s3.amazonaws.com/mnist/t10k-images-idx3-ubyte.gz\n",
            "Downloading https://ossci-datasets.s3.amazonaws.com/mnist/t10k-images-idx3-ubyte.gz to dataset/MNIST/raw/t10k-images-idx3-ubyte.gz\n"
          ]
        },
        {
          "output_type": "stream",
          "name": "stderr",
          "text": [
            "100%|██████████| 1648877/1648877 [00:00<00:00, 4476505.03it/s]\n"
          ]
        },
        {
          "output_type": "stream",
          "name": "stdout",
          "text": [
            "Extracting dataset/MNIST/raw/t10k-images-idx3-ubyte.gz to dataset/MNIST/raw\n",
            "\n",
            "Downloading http://yann.lecun.com/exdb/mnist/t10k-labels-idx1-ubyte.gz\n",
            "Failed to download (trying next):\n",
            "HTTP Error 403: Forbidden\n",
            "\n",
            "Downloading https://ossci-datasets.s3.amazonaws.com/mnist/t10k-labels-idx1-ubyte.gz\n",
            "Downloading https://ossci-datasets.s3.amazonaws.com/mnist/t10k-labels-idx1-ubyte.gz to dataset/MNIST/raw/t10k-labels-idx1-ubyte.gz\n"
          ]
        },
        {
          "output_type": "stream",
          "name": "stderr",
          "text": [
            "100%|██████████| 4542/4542 [00:00<00:00, 4241934.71it/s]\n"
          ]
        },
        {
          "output_type": "stream",
          "name": "stdout",
          "text": [
            "Extracting dataset/MNIST/raw/t10k-labels-idx1-ubyte.gz to dataset/MNIST/raw\n",
            "\n"
          ]
        }
      ]
    },
    {
      "cell_type": "code",
      "source": [
        "for epoch in range(NUM_EPOCHS):\n",
        "    for batch_idx, (real, _) in enumerate(loader):\n",
        "        real = real.to(device)\n",
        "        for _ in range(CRIRIC_ITERATIONS):\n",
        "            noise = torch.randn(BATCH_SIZE, Z_DIM, 1, 1).to(device)\n",
        "            fake = gen(noise)\n",
        "            critic_real = critic(real).reshape(-1)\n",
        "            critic_fake = critic(fake).reshape(-1)\n",
        "            loss_critic = -(torch.mean(critic_real) - torch.mean(critic_fake))\n",
        "            critic.zero_grad()\n",
        "            loss_critic.backward(retain_graph=True)\n",
        "            opt_critic.step()\n",
        "\n",
        "            # Cliping weights\n",
        "            for p in critic.parameters():\n",
        "                p.data.clamp_(-WEIGHT_CLIP, WEIGHT_CLIP)\n",
        "\n",
        "        ### Train Generator: min -E[critic(gen_fake)]\n",
        "        gen_fake = critic(fake)\n",
        "        loss_gen = -torch.mean(gen_fake)\n",
        "        gen.zero_grad()\n",
        "        loss_gen.backward()\n",
        "        opt_gen.step()\n",
        "\n",
        "        if batch_idx % 100 == 0:\n",
        "            print(\n",
        "                f\"Epoch [{epoch}/{NUM_EPOCHS}] Batch {batch_idx}/{len(loader)} \\\n",
        "                  Loss D: {loss_critic:.4f}, loss G: {loss_gen:.4f}\"\n",
        "            )\n",
        "\n",
        "            with torch.no_grad():\n",
        "                fake = gen(fixed_noise)\n",
        "                img_grid_real = torchvision.utils.make_grid(\n",
        "                    real[:32], normalize=True\n",
        "                )\n",
        "                img_grid_fake = torchvision.utils.make_grid(\n",
        "                    fake[:32], normalize=True\n",
        "                )\n",
        "\n",
        "                writer_real.add_image(\"Real\", img_grid_real, global_step=step)\n",
        "                writer_fake.add_image(\"Fake\", img_grid_fake, global_step=step)\n",
        "\n",
        "            step += 1"
      ],
      "metadata": {
        "colab": {
          "base_uri": "https://localhost:8080/"
        },
        "id": "odHDjikk7qJy",
        "outputId": "ef276426-e229-437c-abcc-8f50b50dd32f"
      },
      "execution_count": 9,
      "outputs": [
        {
          "metadata": {
            "tags": null
          },
          "name": "stderr",
          "output_type": "stream",
          "text": [
            "/usr/local/lib/python3.10/dist-packages/torch/autograd/graph.py:744: UserWarning: Plan failed with a cudnnException: CUDNN_BACKEND_EXECUTION_PLAN_DESCRIPTOR: cudnnFinalize Descriptor Failed cudnn_status: CUDNN_STATUS_NOT_SUPPORTED (Triggered internally at ../aten/src/ATen/native/cudnn/Conv_v8.cpp:919.)\n",
            "  return Variable._execution_engine.run_backward(  # Calls into the C++ engine to run the backward pass\n"
          ]
        },
        {
          "output_type": "stream",
          "name": "stdout",
          "text": [
            "Epoch [0/5] Batch 0/938                   Loss D: -0.0263, loss G: -0.4926\n",
            "Epoch [0/5] Batch 100/938                   Loss D: -0.3648, loss G: -0.3227\n",
            "Epoch [0/5] Batch 200/938                   Loss D: -0.3667, loss G: -0.3220\n",
            "Epoch [0/5] Batch 300/938                   Loss D: -0.3679, loss G: -0.3216\n",
            "Epoch [0/5] Batch 400/938                   Loss D: -0.3677, loss G: -0.3216\n",
            "Epoch [0/5] Batch 500/938                   Loss D: -0.3682, loss G: -0.3216\n",
            "Epoch [0/5] Batch 600/938                   Loss D: -0.3681, loss G: -0.3217\n",
            "Epoch [0/5] Batch 700/938                   Loss D: -0.3682, loss G: -0.3216\n",
            "Epoch [0/5] Batch 800/938                   Loss D: -0.3678, loss G: -0.3217\n",
            "Epoch [0/5] Batch 900/938                   Loss D: -0.3680, loss G: -0.3217\n",
            "Epoch [1/5] Batch 0/938                   Loss D: -0.3681, loss G: -0.3217\n",
            "Epoch [1/5] Batch 100/938                   Loss D: -0.3682, loss G: -0.3215\n",
            "Epoch [1/5] Batch 200/938                   Loss D: -0.3686, loss G: -0.3215\n",
            "Epoch [1/5] Batch 300/938                   Loss D: -0.3684, loss G: -0.3214\n",
            "Epoch [1/5] Batch 400/938                   Loss D: -0.3681, loss G: -0.3216\n",
            "Epoch [1/5] Batch 500/938                   Loss D: -0.3682, loss G: -0.3217\n",
            "Epoch [1/5] Batch 600/938                   Loss D: -0.3678, loss G: -0.3219\n",
            "Epoch [1/5] Batch 700/938                   Loss D: -0.3682, loss G: -0.3216\n",
            "Epoch [1/5] Batch 800/938                   Loss D: -0.3678, loss G: -0.3217\n",
            "Epoch [1/5] Batch 900/938                   Loss D: -0.3681, loss G: -0.3216\n",
            "Epoch [2/5] Batch 0/938                   Loss D: -0.3683, loss G: -0.3216\n",
            "Epoch [2/5] Batch 100/938                   Loss D: -0.3667, loss G: -0.3227\n",
            "Epoch [2/5] Batch 200/938                   Loss D: -0.3666, loss G: -0.3220\n",
            "Epoch [2/5] Batch 300/938                   Loss D: -0.3677, loss G: -0.3218\n",
            "Epoch [2/5] Batch 400/938                   Loss D: -0.3675, loss G: -0.3220\n",
            "Epoch [2/5] Batch 500/938                   Loss D: -0.3650, loss G: -0.3234\n",
            "Epoch [2/5] Batch 600/938                   Loss D: -0.3676, loss G: -0.3219\n",
            "Epoch [2/5] Batch 700/938                   Loss D: -0.3672, loss G: -0.3221\n",
            "Epoch [2/5] Batch 800/938                   Loss D: -0.3670, loss G: -0.3221\n",
            "Epoch [2/5] Batch 900/938                   Loss D: -0.3667, loss G: -0.3223\n",
            "Epoch [3/5] Batch 0/938                   Loss D: -0.3667, loss G: -0.3222\n",
            "Epoch [3/5] Batch 100/938                   Loss D: -0.3669, loss G: -0.3221\n",
            "Epoch [3/5] Batch 200/938                   Loss D: -0.3662, loss G: -0.3224\n",
            "Epoch [3/5] Batch 300/938                   Loss D: -0.3657, loss G: -0.3228\n",
            "Epoch [3/5] Batch 400/938                   Loss D: -0.3664, loss G: -0.3219\n",
            "Epoch [3/5] Batch 500/938                   Loss D: -0.3654, loss G: -0.3227\n",
            "Epoch [3/5] Batch 600/938                   Loss D: -0.3556, loss G: -0.3260\n",
            "Epoch [3/5] Batch 700/938                   Loss D: -0.3511, loss G: -0.3272\n",
            "Epoch [3/5] Batch 800/938                   Loss D: -0.3603, loss G: -0.3242\n",
            "Epoch [3/5] Batch 900/938                   Loss D: -0.3534, loss G: -0.3280\n",
            "Epoch [4/5] Batch 0/938                   Loss D: -0.3434, loss G: -0.3335\n",
            "Epoch [4/5] Batch 100/938                   Loss D: -0.3449, loss G: -0.3307\n",
            "Epoch [4/5] Batch 200/938                   Loss D: -0.3180, loss G: -0.3393\n",
            "Epoch [4/5] Batch 300/938                   Loss D: -0.2841, loss G: -0.3319\n",
            "Epoch [4/5] Batch 400/938                   Loss D: -0.2663, loss G: -0.4241\n",
            "Epoch [4/5] Batch 500/938                   Loss D: -0.2794, loss G: -0.3364\n",
            "Epoch [4/5] Batch 600/938                   Loss D: -0.2888, loss G: -0.3484\n",
            "Epoch [4/5] Batch 700/938                   Loss D: -0.2985, loss G: -0.3466\n",
            "Epoch [4/5] Batch 800/938                   Loss D: -0.2846, loss G: -0.3632\n",
            "Epoch [4/5] Batch 900/938                   Loss D: -0.2908, loss G: -0.3547\n"
          ]
        }
      ]
    }
  ]
}